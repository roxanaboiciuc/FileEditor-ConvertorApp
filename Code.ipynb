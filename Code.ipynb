{
 "cells": [
  {
   "cell_type": "code",
   "execution_count": null,
   "id": "0453d380-8bda-42fa-8f09-33ffaf249501",
   "metadata": {},
   "outputs": [],
   "source": [
    "from flask import Flask, request, send_file, render_template\n",
    "import openpyxl\n",
    "import os\n",
    "\n",
    "app = Flask(__name__)\n",
    "UPLOAD_FOLDER = \"uploads\"\n",
    "os.makedirs(UPLOAD_FOLDER, exist_ok=True)\n",
    "\n",
    "def add_quotes_to_excel(input_path, output_path):\n",
    "    workbook = openpyxl.load_workbook(input_path)\n",
    "    for sheet in workbook.sheetnames:\n",
    "        worksheet = workbook[sheet]\n",
    "        for row in worksheet.iter_rows(min_row=2):  # Skip header\n",
    "            for cell in row:\n",
    "                if cell.value is not None:\n",
    "                    cell.value = f'\"{cell.value}\"'\n",
    "    workbook.save(output_path)\n",
    "\n",
    "@app.route(\"/\", methods=[\"GET\", \"POST\"])\n",
    "def upload_file():\n",
    "    if request.method == \"POST\":\n",
    "        file = request.files[\"file\"]\n",
    "        if file:\n",
    "            input_path = os.path.join(UPLOAD_FOLDER, file.filename)\n",
    "            output_path = os.path.join(UPLOAD_FOLDER, \"output_\" + file.filename)\n",
    "            file.save(input_path)\n",
    "            add_quotes_to_excel(input_path, output_path)\n",
    "            return send_file(output_path, as_attachment=True)\n",
    "    return render_template(\"index.html\")\n",
    "\n",
    "if __name__ == \"__main__\":\n",
    "    app.run(debug=True)"
   ]
  }
 ],
 "metadata": {
  "kernelspec": {
   "display_name": "Python 3 (ipykernel)",
   "language": "python",
   "name": "python3"
  },
  "language_info": {
   "codemirror_mode": {
    "name": "ipython",
    "version": 3
   },
   "file_extension": ".py",
   "mimetype": "text/x-python",
   "name": "python",
   "nbconvert_exporter": "python",
   "pygments_lexer": "ipython3",
   "version": "3.11.7"
  }
 },
 "nbformat": 4,
 "nbformat_minor": 5
}
